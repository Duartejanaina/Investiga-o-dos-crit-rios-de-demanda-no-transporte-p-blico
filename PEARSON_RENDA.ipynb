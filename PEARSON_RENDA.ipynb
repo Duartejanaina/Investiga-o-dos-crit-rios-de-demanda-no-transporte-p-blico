{
 "cells": [
  {
   "attachments": {},
   "cell_type": "markdown",
   "metadata": {},
   "source": [
    "# TESTE PARA ANALISAR A CORRELAÇÃO ENTRE RENDA E PASSAGEIRO"
   ]
  },
  {
   "cell_type": "code",
   "execution_count": 1,
   "metadata": {},
   "outputs": [],
   "source": [
    "# Pacotes\n",
    "import numpy as np\n",
    "import pandas as pd\n",
    "from scipy.stats import pearsonr"
   ]
  },
  {
   "cell_type": "code",
   "execution_count": 2,
   "metadata": {},
   "outputs": [
    {
     "data": {
      "text/html": [
       "<div>\n",
       "<style scoped>\n",
       "    .dataframe tbody tr th:only-of-type {\n",
       "        vertical-align: middle;\n",
       "    }\n",
       "\n",
       "    .dataframe tbody tr th {\n",
       "        vertical-align: top;\n",
       "    }\n",
       "\n",
       "    .dataframe thead th {\n",
       "        text-align: right;\n",
       "    }\n",
       "</style>\n",
       "<table border=\"1\" class=\"dataframe\">\n",
       "  <thead>\n",
       "    <tr style=\"text-align: right;\">\n",
       "      <th></th>\n",
       "      <th>Hexagono</th>\n",
       "      <th>Bairro</th>\n",
       "      <th>UP</th>\n",
       "      <th>Mes</th>\n",
       "      <th>Aumentou</th>\n",
       "      <th>Quantidade_passageiros(Y)</th>\n",
       "      <th>Numero_linhas</th>\n",
       "      <th>Frequencia_HEX</th>\n",
       "      <th>Populacao</th>\n",
       "      <th>Renda_DOMICILIAR</th>\n",
       "      <th>Quantidade_escolas</th>\n",
       "      <th>Cluster</th>\n",
       "    </tr>\n",
       "  </thead>\n",
       "  <tbody>\n",
       "    <tr>\n",
       "      <th>0</th>\n",
       "      <td>89a88cd8527ffff</td>\n",
       "      <td>São Salvador</td>\n",
       "      <td>Glória</td>\n",
       "      <td>agosto, 2022</td>\n",
       "      <td>0</td>\n",
       "      <td>42</td>\n",
       "      <td>1</td>\n",
       "      <td>86</td>\n",
       "      <td>1328</td>\n",
       "      <td>704.1</td>\n",
       "      <td>1</td>\n",
       "      <td>2</td>\n",
       "    </tr>\n",
       "    <tr>\n",
       "      <th>1</th>\n",
       "      <td>89a88cd8537ffff</td>\n",
       "      <td>Glória</td>\n",
       "      <td>Glória</td>\n",
       "      <td>agosto, 2022</td>\n",
       "      <td>0</td>\n",
       "      <td>61</td>\n",
       "      <td>3</td>\n",
       "      <td>100</td>\n",
       "      <td>1245</td>\n",
       "      <td>668.0</td>\n",
       "      <td>1</td>\n",
       "      <td>0</td>\n",
       "    </tr>\n",
       "    <tr>\n",
       "      <th>2</th>\n",
       "      <td>89a88cd8583ffff</td>\n",
       "      <td>Glória</td>\n",
       "      <td>Glória</td>\n",
       "      <td>agosto, 2022</td>\n",
       "      <td>0</td>\n",
       "      <td>76</td>\n",
       "      <td>3</td>\n",
       "      <td>306</td>\n",
       "      <td>1703</td>\n",
       "      <td>627.0</td>\n",
       "      <td>1</td>\n",
       "      <td>0</td>\n",
       "    </tr>\n",
       "    <tr>\n",
       "      <th>3</th>\n",
       "      <td>89a88cd8587ffff</td>\n",
       "      <td>Glória</td>\n",
       "      <td>Glória</td>\n",
       "      <td>agosto, 2022</td>\n",
       "      <td>0</td>\n",
       "      <td>19</td>\n",
       "      <td>1</td>\n",
       "      <td>44</td>\n",
       "      <td>1143</td>\n",
       "      <td>621.8</td>\n",
       "      <td>0</td>\n",
       "      <td>2</td>\n",
       "    </tr>\n",
       "    <tr>\n",
       "      <th>4</th>\n",
       "      <td>89a88cd8593ffff</td>\n",
       "      <td>Álvaro Camargos</td>\n",
       "      <td>Glória</td>\n",
       "      <td>agosto, 2022</td>\n",
       "      <td>0</td>\n",
       "      <td>17</td>\n",
       "      <td>1</td>\n",
       "      <td>52</td>\n",
       "      <td>2192</td>\n",
       "      <td>631.6</td>\n",
       "      <td>0</td>\n",
       "      <td>0</td>\n",
       "    </tr>\n",
       "  </tbody>\n",
       "</table>\n",
       "</div>"
      ],
      "text/plain": [
       "          Hexagono           Bairro      UP           Mes  Aumentou  \\\n",
       "0  89a88cd8527ffff     São Salvador  Glória  agosto, 2022         0   \n",
       "1  89a88cd8537ffff           Glória  Glória  agosto, 2022         0   \n",
       "2  89a88cd8583ffff           Glória  Glória  agosto, 2022         0   \n",
       "3  89a88cd8587ffff           Glória  Glória  agosto, 2022         0   \n",
       "4  89a88cd8593ffff  Álvaro Camargos  Glória  agosto, 2022         0   \n",
       "\n",
       "   Quantidade_passageiros(Y)  Numero_linhas  Frequencia_HEX  Populacao  \\\n",
       "0                         42              1              86       1328   \n",
       "1                         61              3             100       1245   \n",
       "2                         76              3             306       1703   \n",
       "3                         19              1              44       1143   \n",
       "4                         17              1              52       2192   \n",
       "\n",
       "   Renda_DOMICILIAR  Quantidade_escolas  Cluster  \n",
       "0             704.1                   1        2  \n",
       "1             668.0                   1        0  \n",
       "2             627.0                   1        0  \n",
       "3             621.8                   0        2  \n",
       "4             631.6                   0        0  "
      ]
     },
     "execution_count": 2,
     "metadata": {},
     "output_type": "execute_result"
    }
   ],
   "source": [
    "pearson_caminho = r\"C:\\Users\\Administrador\\Downloads\\TCC-20240110T120732Z-001\\Dados_UP Gloria\\Dados_gerais2.xlsx\"\n",
    "teste_pearson = pd.read_excel(pearson_caminho)\n",
    "teste_pearson.head()"
   ]
  },
  {
   "cell_type": "code",
   "execution_count": null,
   "metadata": {},
   "outputs": [],
   "source": []
  },
  {
   "cell_type": "code",
   "execution_count": 3,
   "metadata": {},
   "outputs": [
    {
     "data": {
      "text/plain": [
       "(0.023178541927030193, 0.5837996894037961)"
      ]
     },
     "execution_count": 3,
     "metadata": {},
     "output_type": "execute_result"
    }
   ],
   "source": [
    "\n",
    "# Calculando a correlação de Pearson entre 'Quantidade_passageiros(Y)' e 'Renda_DOMICILIAR'\n",
    "coeficiente_correlacao, p_valor = pearsonr(teste_pearson['Quantidade_passageiros(Y)'], teste_pearson['Renda_DOMICILIAR'])\n",
    "\n",
    "coeficiente_correlacao, p_valor"
   ]
  },
  {
   "cell_type": "code",
   "execution_count": 4,
   "metadata": {},
   "outputs": [
    {
     "data": {
      "text/html": [
       "<div>\n",
       "<style scoped>\n",
       "    .dataframe tbody tr th:only-of-type {\n",
       "        vertical-align: middle;\n",
       "    }\n",
       "\n",
       "    .dataframe tbody tr th {\n",
       "        vertical-align: top;\n",
       "    }\n",
       "\n",
       "    .dataframe thead th {\n",
       "        text-align: right;\n",
       "    }\n",
       "</style>\n",
       "<table border=\"1\" class=\"dataframe\">\n",
       "  <thead>\n",
       "    <tr style=\"text-align: right;\">\n",
       "      <th></th>\n",
       "      <th>Hexagono</th>\n",
       "      <th>Bairro</th>\n",
       "      <th>UP</th>\n",
       "      <th>Mes</th>\n",
       "      <th>Aumentou</th>\n",
       "      <th>Quantidade_passageiros(Y)</th>\n",
       "      <th>Numero_linhas</th>\n",
       "      <th>Frequencia_HEX</th>\n",
       "      <th>Populacao</th>\n",
       "      <th>Renda_DOMICILIAR</th>\n",
       "      <th>Quantidade_escolas</th>\n",
       "      <th>Cluster</th>\n",
       "    </tr>\n",
       "  </thead>\n",
       "  <tbody>\n",
       "    <tr>\n",
       "      <th>1</th>\n",
       "      <td>89a88cd8537ffff</td>\n",
       "      <td>Glória</td>\n",
       "      <td>Glória</td>\n",
       "      <td>agosto, 2022</td>\n",
       "      <td>0</td>\n",
       "      <td>61</td>\n",
       "      <td>3</td>\n",
       "      <td>100</td>\n",
       "      <td>1245</td>\n",
       "      <td>668.0</td>\n",
       "      <td>1</td>\n",
       "      <td>0</td>\n",
       "    </tr>\n",
       "    <tr>\n",
       "      <th>2</th>\n",
       "      <td>89a88cd8583ffff</td>\n",
       "      <td>Glória</td>\n",
       "      <td>Glória</td>\n",
       "      <td>agosto, 2022</td>\n",
       "      <td>0</td>\n",
       "      <td>76</td>\n",
       "      <td>3</td>\n",
       "      <td>306</td>\n",
       "      <td>1703</td>\n",
       "      <td>627.0</td>\n",
       "      <td>1</td>\n",
       "      <td>0</td>\n",
       "    </tr>\n",
       "    <tr>\n",
       "      <th>4</th>\n",
       "      <td>89a88cd8593ffff</td>\n",
       "      <td>Álvaro Camargos</td>\n",
       "      <td>Glória</td>\n",
       "      <td>agosto, 2022</td>\n",
       "      <td>0</td>\n",
       "      <td>17</td>\n",
       "      <td>1</td>\n",
       "      <td>52</td>\n",
       "      <td>2192</td>\n",
       "      <td>631.6</td>\n",
       "      <td>0</td>\n",
       "      <td>0</td>\n",
       "    </tr>\n",
       "    <tr>\n",
       "      <th>8</th>\n",
       "      <td>89a88cd85afffff</td>\n",
       "      <td>Glória</td>\n",
       "      <td>Glória</td>\n",
       "      <td>agosto, 2022</td>\n",
       "      <td>0</td>\n",
       "      <td>8</td>\n",
       "      <td>3</td>\n",
       "      <td>94</td>\n",
       "      <td>1420</td>\n",
       "      <td>753.5</td>\n",
       "      <td>0</td>\n",
       "      <td>0</td>\n",
       "    </tr>\n",
       "    <tr>\n",
       "      <th>9</th>\n",
       "      <td>89a88cd85b3ffff</td>\n",
       "      <td>Novo Glória</td>\n",
       "      <td>Glória</td>\n",
       "      <td>agosto, 2022</td>\n",
       "      <td>0</td>\n",
       "      <td>219</td>\n",
       "      <td>3</td>\n",
       "      <td>308</td>\n",
       "      <td>2021</td>\n",
       "      <td>725.7</td>\n",
       "      <td>1</td>\n",
       "      <td>0</td>\n",
       "    </tr>\n",
       "  </tbody>\n",
       "</table>\n",
       "</div>"
      ],
      "text/plain": [
       "          Hexagono           Bairro      UP           Mes  Aumentou  \\\n",
       "1  89a88cd8537ffff           Glória  Glória  agosto, 2022         0   \n",
       "2  89a88cd8583ffff           Glória  Glória  agosto, 2022         0   \n",
       "4  89a88cd8593ffff  Álvaro Camargos  Glória  agosto, 2022         0   \n",
       "8  89a88cd85afffff           Glória  Glória  agosto, 2022         0   \n",
       "9  89a88cd85b3ffff      Novo Glória  Glória  agosto, 2022         0   \n",
       "\n",
       "   Quantidade_passageiros(Y)  Numero_linhas  Frequencia_HEX  Populacao  \\\n",
       "1                         61              3             100       1245   \n",
       "2                         76              3             306       1703   \n",
       "4                         17              1              52       2192   \n",
       "8                          8              3              94       1420   \n",
       "9                        219              3             308       2021   \n",
       "\n",
       "   Renda_DOMICILIAR  Quantidade_escolas  Cluster  \n",
       "1             668.0                   1        0  \n",
       "2             627.0                   1        0  \n",
       "4             631.6                   0        0  \n",
       "8             753.5                   0        0  \n",
       "9             725.7                   1        0  "
      ]
     },
     "execution_count": 4,
     "metadata": {},
     "output_type": "execute_result"
    }
   ],
   "source": [
    "# Filtrar o dataframe para o cluster \n",
    "cluster_0_df = teste_pearson[teste_pearson['Cluster'] == 0]\n",
    "\n",
    "# Mostrar as primeiras linhas do dataframe filtrado para o cluster \n",
    "cluster_0_df.head()"
   ]
  },
  {
   "cell_type": "code",
   "execution_count": 5,
   "metadata": {},
   "outputs": [
    {
     "data": {
      "text/plain": [
       "(0.1051797253495263, 0.14028439618523966)"
      ]
     },
     "execution_count": 5,
     "metadata": {},
     "output_type": "execute_result"
    }
   ],
   "source": [
    "# Calculando a correlação de Pearson entre 'Quantidade_passageiros(Y)' e 'Renda_DOMICILIAR'\n",
    "coeficiente_correlacao, p_valor = pearsonr(cluster_0_df['Quantidade_passageiros(Y)'], cluster_0_df['Renda_DOMICILIAR'])\n",
    "\n",
    "coeficiente_correlacao, p_valor"
   ]
  },
  {
   "cell_type": "code",
   "execution_count": 6,
   "metadata": {},
   "outputs": [
    {
     "data": {
      "text/plain": [
       "(0.9886335194169606, 6.198913085478071e-18)"
      ]
     },
     "execution_count": 6,
     "metadata": {},
     "output_type": "execute_result"
    }
   ],
   "source": [
    "# Filtrar o dataframe para o cluster \n",
    "cluster_1_df = teste_pearson[teste_pearson['Cluster'] == 1]\n",
    "\n",
    "# Mostrar as primeiras linhas do dataframe filtrado para o cluster \n",
    "cluster_1_df.head()\n",
    "# Calculando a correlação de Pearson entre 'Quantidade_passageiros(Y)' e 'Renda_DOMICILIAR'\n",
    "coeficiente_correlacao, p_valor = pearsonr(cluster_1_df['Quantidade_passageiros(Y)'], cluster_1_df['Renda_DOMICILIAR'])\n",
    "\n",
    "coeficiente_correlacao, p_valor"
   ]
  },
  {
   "cell_type": "code",
   "execution_count": 7,
   "metadata": {},
   "outputs": [
    {
     "data": {
      "text/plain": [
       "(-0.4077761424410765, 1.9258050668661705e-12)"
      ]
     },
     "execution_count": 7,
     "metadata": {},
     "output_type": "execute_result"
    }
   ],
   "source": [
    "# Filtrar o dataframe para o cluster \n",
    "cluster_2_df = teste_pearson[teste_pearson['Cluster'] == 2]\n",
    "\n",
    "# Mostrar as primeiras linhas do dataframe filtrado para o cluster \n",
    "cluster_2_df.head()\n",
    "# Calculando a correlação de Pearson entre 'Quantidade_passageiros(Y)' e 'Renda_DOMICILIAR'\n",
    "coeficiente_correlacao, p_valor = pearsonr(cluster_2_df['Quantidade_passageiros(Y)'], cluster_2_df['Renda_DOMICILIAR'])\n",
    "\n",
    "coeficiente_correlacao, p_valor"
   ]
  },
  {
   "cell_type": "code",
   "execution_count": 8,
   "metadata": {},
   "outputs": [
    {
     "data": {
      "text/plain": [
       "(-0.074075160156291, 0.554450555672417)"
      ]
     },
     "execution_count": 8,
     "metadata": {},
     "output_type": "execute_result"
    }
   ],
   "source": [
    "# Filtrar o dataframe para o cluster \n",
    "cluster_3_df = teste_pearson[teste_pearson['Cluster'] == 3]\n",
    "\n",
    "# Mostrar as primeiras linhas do dataframe filtrado para o cluster \n",
    "cluster_3_df.head()\n",
    "# Calculando a correlação de Pearson entre 'Quantidade_passageiros(Y)' e 'Renda_DOMICILIAR'\n",
    "coeficiente_correlacao, p_valor = pearsonr(cluster_3_df['Quantidade_passageiros(Y)'], cluster_3_df['Renda_DOMICILIAR'])\n",
    "\n",
    "coeficiente_correlacao, p_valor"
   ]
  },
  {
   "cell_type": "code",
   "execution_count": 12,
   "metadata": {},
   "outputs": [
    {
     "data": {
      "image/png": "[encoded data removed]",
      "text/plain": [
       "<Figure size 1000x600 with 1 Axes>"
      ]
     },
     "metadata": {},
     "output_type": "display_data"
    }
   ],
   "source": [
    "import seaborn as sns\n",
    "import matplotlib.pyplot as plt\n",
    "\n",
    "data = {\n",
    "    'Cluster': [0, 1, 2, 3],\n",
    "    'Coef. De correlação': [0.1051, 0.9886, -0.4078, -0.0740],\n",
    "    'p-valor': [0.1402, 6.20e-18, 1.93e-12, 0.5544],\n",
    "    'Correlação': ['Positiva fraca', 'Muito forte', 'Negativa moderada', 'Negativa fraca']\n",
    "}\n",
    "\n",
    "# Criando o DataFrame\n",
    "df = pd.DataFrame(data)\n",
    "\n",
    "# Configurando o estilo do gráfico\n",
    "sns.set(style=\"white\", rc={'axes.grid' : False})\n",
    "\n",
    "# Criando o gráfico\n",
    "plt.figure(figsize=(10, 6))\n",
    "barplot = sns.barplot(x='Cluster', y='Coef. De correlação', data=df, hue='Correlação', palette=\"viridis\")\n",
    "\n",
    "# Adicionando anotações de p-valor\n",
    "for index, row in df.iterrows():\n",
    "    barplot.text(row.name, row['Coef. De correlação'], f'p={row[\"p-valor\"]:.2e}', color='black', ha=\"center\")\n",
    "\n",
    "# Adicionando título e rótulos\n",
    "plt.title('Gráfico de Correlação de Pearson por Cluster')\n",
    "plt.xlabel('Cluster')\n",
    "plt.ylabel('Coeficiente de Correlação')\n",
    "\n",
    "# Ajustando a legenda\n",
    "plt.legend(title='Tipo de Correlação', bbox_to_anchor=(1.05, 1), loc='upper left')\n",
    "\n",
    "# Mostrar o gráfico\n",
    "plt.tight_layout()\n",
    "plt.show()"
   ]
  }
 ],
 "metadata": {
  "kernelspec": {
   "display_name": "Python 3",
   "language": "python",
   "name": "python3"
  },
  "language_info": {
   "codemirror_mode": {
    "name": "ipython",
    "version": 3
   },
   "file_extension": ".py",
   "mimetype": "text/x-python",
   "name": "python",
   "nbconvert_exporter": "python",
   "pygments_lexer": "ipython3",
   "version": "3.11.3"
  },
  "orig_nbformat": 4
 },
 "nbformat": 4,
 "nbformat_minor": 2
}
