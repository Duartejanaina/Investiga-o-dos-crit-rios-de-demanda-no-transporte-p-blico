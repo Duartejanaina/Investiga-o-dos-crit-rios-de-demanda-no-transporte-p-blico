{
 "cells": [
  {
   "attachments": {},
   "cell_type": "markdown",
   "metadata": {},
   "source": [
    "## ANÁLISE DO CLUSTER 1 DA UP GLÓRIA"
   ]
  },
  {
   "cell_type": "code",
   "execution_count": 1,
   "metadata": {},
   "outputs": [],
   "source": [
    "# Bibliotecas\n",
    "import numpy as np\n",
    "import pandas as pd"
   ]
  },
  {
   "cell_type": "code",
   "execution_count": 2,
   "metadata": {},
   "outputs": [],
   "source": [
    "# Upload do arquivo para análise\n",
    "gloria_1_caminho = r\"C:\\Users\\Administrador\\Downloads\\TCC-20240110T120732Z-001\\Dados_UP Gloria\\Cluster 1\\Cluster1_GLORIA_ALTERACOES.xlsx\"\n",
    "gloria_1 = pd.read_excel(gloria_1_caminho)\n"
   ]
  },
  {
   "attachments": {},
   "cell_type": "markdown",
   "metadata": {},
   "source": [
    "# Estatísticas descritivas"
   ]
  },
  {
   "cell_type": "code",
   "execution_count": 3,
   "metadata": {},
   "outputs": [
    {
     "data": {
      "text/html": [
       "<div>\n",
       "<style scoped>\n",
       "    .dataframe tbody tr th:only-of-type {\n",
       "        vertical-align: middle;\n",
       "    }\n",
       "\n",
       "    .dataframe tbody tr th {\n",
       "        vertical-align: top;\n",
       "    }\n",
       "\n",
       "    .dataframe thead th {\n",
       "        text-align: right;\n",
       "    }\n",
       "</style>\n",
       "<table border=\"1\" class=\"dataframe\">\n",
       "  <thead>\n",
       "    <tr style=\"text-align: right;\">\n",
       "      <th></th>\n",
       "      <th>Linha</th>\n",
       "      <th>Sublinha</th>\n",
       "      <th>PC</th>\n",
       "      <th>SIU</th>\n",
       "      <th>id_hex</th>\n",
       "      <th>mes</th>\n",
       "      <th>ano</th>\n",
       "      <th>Alteracao_QH</th>\n",
       "      <th>Alteracao_IT</th>\n",
       "      <th>pass</th>\n",
       "      <th>Houve aumento passageiro</th>\n",
       "      <th>Tarifa_Aumento</th>\n",
       "      <th>Tarifa_reducao</th>\n",
       "      <th>Cluster</th>\n",
       "    </tr>\n",
       "  </thead>\n",
       "  <tbody>\n",
       "    <tr>\n",
       "      <th>Total Observações</th>\n",
       "      <td>492</td>\n",
       "      <td>492</td>\n",
       "      <td>492</td>\n",
       "      <td>492</td>\n",
       "      <td>492</td>\n",
       "      <td>492</td>\n",
       "      <td>492</td>\n",
       "      <td>492</td>\n",
       "      <td>492</td>\n",
       "      <td>492</td>\n",
       "      <td>492</td>\n",
       "      <td>492</td>\n",
       "      <td>492</td>\n",
       "      <td>492</td>\n",
       "    </tr>\n",
       "    <tr>\n",
       "      <th>0 - Não</th>\n",
       "      <td>0</td>\n",
       "      <td>0</td>\n",
       "      <td>0</td>\n",
       "      <td>0</td>\n",
       "      <td>0</td>\n",
       "      <td>0</td>\n",
       "      <td>0</td>\n",
       "      <td>393</td>\n",
       "      <td>460</td>\n",
       "      <td>266</td>\n",
       "      <td>388</td>\n",
       "      <td>451</td>\n",
       "      <td>451</td>\n",
       "      <td>0</td>\n",
       "    </tr>\n",
       "    <tr>\n",
       "      <th>1 - Sim</th>\n",
       "      <td>0</td>\n",
       "      <td>144</td>\n",
       "      <td>348</td>\n",
       "      <td>0</td>\n",
       "      <td>0</td>\n",
       "      <td>0</td>\n",
       "      <td>0</td>\n",
       "      <td>99</td>\n",
       "      <td>32</td>\n",
       "      <td>24</td>\n",
       "      <td>104</td>\n",
       "      <td>41</td>\n",
       "      <td>41</td>\n",
       "      <td>492</td>\n",
       "    </tr>\n",
       "  </tbody>\n",
       "</table>\n",
       "</div>"
      ],
      "text/plain": [
       "                   Linha  Sublinha   PC  SIU  id_hex  mes  ano  Alteracao_QH  \\\n",
       "Total Observações    492       492  492  492     492  492  492           492   \n",
       "0 - Não                0         0    0    0       0    0    0           393   \n",
       "1 - Sim                0       144  348    0       0    0    0            99   \n",
       "\n",
       "                   Alteracao_IT  pass  Houve aumento passageiro  \\\n",
       "Total Observações           492   492                       492   \n",
       "0 - Não                     460   266                       388   \n",
       "1 - Sim                      32    24                       104   \n",
       "\n",
       "                   Tarifa_Aumento  Tarifa_reducao  Cluster  \n",
       "Total Observações             492             492      492  \n",
       "0 - Não                       451             451        0  \n",
       "1 - Sim                        41              41      492  "
      ]
     },
     "execution_count": 3,
     "metadata": {},
     "output_type": "execute_result"
    }
   ],
   "source": [
    "estatisticas_descritivas = ['Alteracao_QH', 'Alteracao_IT', 'Houve aumento passageiro', 'Tarifa_Aumento', 'Tarifa_reducao']\n",
    "for col in estatisticas_descritivas:\n",
    "    gloria_1[col] = gloria_1[col].astype(int)\n",
    "\n",
    "estatisticas = {}\n",
    "for col in gloria_1.columns:\n",
    "   estatisticas[col] = {\n",
    "        'Total Observações': gloria_1[col].count(),\n",
    "        '0 - Não': (gloria_1[col] == 0).sum(),\n",
    "        '1 - Sim': (gloria_1[col] == 1).sum()\n",
    "    }\n",
    "\n",
    "estatisticas = pd.DataFrame(estatisticas)\n",
    "estatisticas\n"
   ]
  },
  {
   "attachments": {},
   "cell_type": "markdown",
   "metadata": {},
   "source": [
    "# Teste V de Cramer\n",
    "Objetivo: Testar asssociação entre as variáveis"
   ]
  },
  {
   "cell_type": "code",
   "execution_count": 4,
   "metadata": {},
   "outputs": [],
   "source": [
    "# Pacotes\n",
    "from scipy.stats import chi2_contingency"
   ]
  },
  {
   "cell_type": "code",
   "execution_count": 5,
   "metadata": {},
   "outputs": [],
   "source": [
    "def cramers_v(x, y):\n",
    "    confusion_matrix = pd.crosstab(x, y)\n",
    "    chi2 = chi2_contingency(confusion_matrix)[0]\n",
    "    n = confusion_matrix.sum().sum()\n",
    "    phi2 = chi2 / n\n",
    "    r, k = confusion_matrix.shape\n",
    "    phi2corr = max(0, phi2 - ((k-1)*(r-1))/(n-1))\n",
    "    rcorr = r - ((r-1)**2)/(n-1)\n",
    "    kcorr = k - ((k-1)**2)/(n-1)\n",
    "    return np.sqrt(phi2corr / min((kcorr-1), (rcorr-1)))"
   ]
  },
  {
   "cell_type": "code",
   "execution_count": 6,
   "metadata": {},
   "outputs": [
    {
     "data": {
      "text/html": [
       "<div>\n",
       "<style scoped>\n",
       "    .dataframe tbody tr th:only-of-type {\n",
       "        vertical-align: middle;\n",
       "    }\n",
       "\n",
       "    .dataframe tbody tr th {\n",
       "        vertical-align: top;\n",
       "    }\n",
       "\n",
       "    .dataframe thead th {\n",
       "        text-align: right;\n",
       "    }\n",
       "</style>\n",
       "<table border=\"1\" class=\"dataframe\">\n",
       "  <thead>\n",
       "    <tr style=\"text-align: right;\">\n",
       "      <th></th>\n",
       "      <th>Alteracao_QH</th>\n",
       "      <th>Alteracao_IT</th>\n",
       "      <th>Houve aumento passageiro</th>\n",
       "      <th>Tarifa_Aumento</th>\n",
       "      <th>Tarifa_reducao</th>\n",
       "    </tr>\n",
       "  </thead>\n",
       "  <tbody>\n",
       "    <tr>\n",
       "      <th>Alteracao_QH</th>\n",
       "      <td>0.993664</td>\n",
       "      <td>0.113568</td>\n",
       "      <td>0.121474</td>\n",
       "      <td>0.115415</td>\n",
       "      <td>0.038992</td>\n",
       "    </tr>\n",
       "    <tr>\n",
       "      <th>Alteracao_IT</th>\n",
       "      <td>0.113568</td>\n",
       "      <td>0.983254</td>\n",
       "      <td>0.0</td>\n",
       "      <td>0.046288</td>\n",
       "      <td>0.046288</td>\n",
       "    </tr>\n",
       "    <tr>\n",
       "      <th>Houve aumento passageiro</th>\n",
       "      <td>0.121474</td>\n",
       "      <td>0.0</td>\n",
       "      <td>0.993891</td>\n",
       "      <td>0.0</td>\n",
       "      <td>0.074521</td>\n",
       "    </tr>\n",
       "    <tr>\n",
       "      <th>Tarifa_Aumento</th>\n",
       "      <td>0.115415</td>\n",
       "      <td>0.046288</td>\n",
       "      <td>0.0</td>\n",
       "      <td>0.986669</td>\n",
       "      <td>0.063199</td>\n",
       "    </tr>\n",
       "    <tr>\n",
       "      <th>Tarifa_reducao</th>\n",
       "      <td>0.038992</td>\n",
       "      <td>0.046288</td>\n",
       "      <td>0.074521</td>\n",
       "      <td>0.063199</td>\n",
       "      <td>0.986669</td>\n",
       "    </tr>\n",
       "  </tbody>\n",
       "</table>\n",
       "</div>"
      ],
      "text/plain": [
       "                         Alteracao_QH Alteracao_IT Houve aumento passageiro  \\\n",
       "Alteracao_QH                 0.993664     0.113568                 0.121474   \n",
       "Alteracao_IT                 0.113568     0.983254                      0.0   \n",
       "Houve aumento passageiro     0.121474          0.0                 0.993891   \n",
       "Tarifa_Aumento               0.115415     0.046288                      0.0   \n",
       "Tarifa_reducao               0.038992     0.046288                 0.074521   \n",
       "\n",
       "                         Tarifa_Aumento Tarifa_reducao  \n",
       "Alteracao_QH                   0.115415       0.038992  \n",
       "Alteracao_IT                   0.046288       0.046288  \n",
       "Houve aumento passageiro            0.0       0.074521  \n",
       "Tarifa_Aumento                 0.986669       0.063199  \n",
       "Tarifa_reducao                 0.063199       0.986669  "
      ]
     },
     "execution_count": 6,
     "metadata": {},
     "output_type": "execute_result"
    }
   ],
   "source": [
    "columns_to_test = ['Alteracao_QH', 'Alteracao_IT', 'Houve aumento passageiro', 'Tarifa_Aumento', 'Tarifa_reducao']\n",
    "# Preparando um DataFrame para armazenar os resultados do V de Cramer\n",
    "cramers_results_selected = pd.DataFrame(index=columns_to_test, columns=columns_to_test)\n",
    "\n",
    "# Calculando o V de Cramer para cada par de variáveis selecionadas\n",
    "for col1 in columns_to_test:\n",
    "    for col2 in columns_to_test:\n",
    "        cramers_results_selected.loc[col1, col2] = cramers_v(gloria_1[col1], gloria_1[col2])\n",
    "\n",
    "cramers_results_selected"
   ]
  },
  {
   "cell_type": "code",
   "execution_count": 2,
   "metadata": {},
   "outputs": [
    {
     "data": {
      "image/png": "[encoded data removed]",
      "text/plain": [
       "<Figure size 1000x600 with 1 Axes>"
      ]
     },
     "metadata": {},
     "output_type": "display_data"
    }
   ],
   "source": [
    "import pandas as pd\n",
    "import numpy as np\n",
    "import matplotlib.pyplot as plt\n",
    "\n",
    "# Dados\n",
    "data = {\n",
    "    'Cluster': ['0', '1', '2', '3'],\n",
    "    'Alteração no Quadro de Horário X Aumento de passageiros': [0.01, 0.12, 0.00, 0.00],\n",
    "    'Alteração no Itinerário X Aumento de passageiros': [0.03, 0.00, 0.00, 0.00],\n",
    "    'Aumento de Tarifa X Aumento de passageiros': [0.00, 0.00, 0.00, 0.08],\n",
    "    'Redução da Tarifa X Aumento de passageiros': [0.09, 0.07, 0.11, 0.11]\n",
    "}\n",
    "\n",
    "# Criando o DataFrame\n",
    "df = pd.DataFrame(data)\n",
    "df.set_index('Cluster', inplace=True)\n",
    "\n",
    "# Cores\n",
    "colors = ['#1f77b4', '#ff7f0e', '#2ca02c', '#d62728']\n",
    "\n",
    "# Criando o gráfico de barras empilhadas\n",
    "ax = df.plot(kind='bar', stacked=True, color=colors, figsize=(10, 6))\n",
    "\n",
    "# Adicionando título e rótulos\n",
    "plt.title('Teste V de Cramer por Cluster e Categoria')\n",
    "plt.xlabel('Cluster')\n",
    "plt.ylabel('Valor V de Cramer')\n",
    "\n",
    "# Adicionando a legenda\n",
    "plt.legend(title='Categoria', bbox_to_anchor=(1.05, 1), loc='upper left')\n",
    "\n",
    "# Mostrar o gráfico\n",
    "plt.tight_layout()\n",
    "plt.show()\n"
   ]
  },
  {
   "attachments": {},
   "cell_type": "markdown",
   "metadata": {},
   "source": [
    "Análise: Associação fraca a moderada entre alterações no Quadro de Horário e redução da tarifa. Não há associação entre o aumento de passageiros e alterações realizadas pela SUMOB ou BHTRANS"
   ]
  }
 ],
 "metadata": {
  "kernelspec": {
   "display_name": "Python 3",
   "language": "python",
   "name": "python3"
  },
  "language_info": {
   "codemirror_mode": {
    "name": "ipython",
    "version": 3
   },
   "file_extension": ".py",
   "mimetype": "text/x-python",
   "name": "python",
   "nbconvert_exporter": "python",
   "pygments_lexer": "ipython3",
   "version": "3.11.3"
  },
  "orig_nbformat": 4
 },
 "nbformat": 4,
 "nbformat_minor": 2
}
